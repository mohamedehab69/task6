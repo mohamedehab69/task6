{
 "cells": [
  {
   "cell_type": "code",
   "execution_count": 2,
   "metadata": {},
   "outputs": [],
   "source": [
    "import os\n",
    "images_path = r\".\"\n",
    "image_list = os.listdir(images_path)\n",
    "for i,  image in enumerate(image_list):\n",
    "    ext = os.path.splitext(image)[1]\n",
    "    if ext == '.jpg':\n",
    "        src = images_path + '/' + image\n",
    "        dst = images_path + '/' + str(i) + '.jpg'\n",
    "        os.rename(src, dst)"
   ]
  },
  {
   "cell_type": "code",
   "execution_count": null,
   "metadata": {},
   "outputs": [],
   "source": []
  },
  {
   "cell_type": "code",
   "execution_count": 10,
   "metadata": {},
   "outputs": [
    {
     "name": "stdout",
     "output_type": "stream",
     "text": [
      "Destroying: 19.jpg\n",
      "Destroying: 21.jpg\n",
      "Destroying: 9.jpg\n",
      "Destroying: 15.jpg\n",
      "Destroying: 3.jpg\n",
      "Destroying: 11.png\n",
      "Destroying: 4.jpg\n",
      "Destroying: 7.jpg\n",
      "Destroying: 5.jpg\n",
      "Destroying: 13.png\n",
      "Destroying: 20.jpg\n",
      "Destroying: 17.jpg\n",
      "perfectly balanced, as all things should be\n"
     ]
    }
   ],
   "source": [
    "import os\n",
    "import random\n",
    "import time\n",
    "\n",
    "def show_universe_people(place):\n",
    "    people= os.listdir(place)\n",
    "    return people\n",
    "\n",
    "universe= show_universe_people('Thanos_Project')\n",
    "def thanos(universe):\n",
    "    half_of_universe= len(universe)//2\n",
    "    for i in range(half_of_universe):\n",
    "\n",
    "        random_victim= random.choice(universe)\n",
    "        os.remove(f'Thanos_Project/{random_victim}')\n",
    "        universe.remove(random_victim)\n",
    "        print(f\"Destroying: {random_victim}\")\n",
    "    print(\"perfectly balanced, as all things should be\")\n",
    "        \n",
    "\n",
    "thanos(universe)\n"
   ]
  },
  {
   "cell_type": "code",
   "execution_count": null,
   "metadata": {},
   "outputs": [],
   "source": []
  }
 ],
 "metadata": {
  "kernelspec": {
   "display_name": "Python 3",
   "language": "python",
   "name": "python3"
  },
  "language_info": {
   "codemirror_mode": {
    "name": "ipython",
    "version": 3
   },
   "file_extension": ".py",
   "mimetype": "text/x-python",
   "name": "python",
   "nbconvert_exporter": "python",
   "pygments_lexer": "ipython3",
   "version": "3.7.6"
  }
 },
 "nbformat": 4,
 "nbformat_minor": 4
}
